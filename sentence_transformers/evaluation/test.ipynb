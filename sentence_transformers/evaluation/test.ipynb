{
 "cells": [
  {
   "cell_type": "code",
   "execution_count": 1,
   "metadata": {},
   "outputs": [
    {
     "name": "stderr",
     "output_type": "stream",
     "text": [
      "128432000it [07:35, 282123.77it/s] \n"
     ]
    }
   ],
   "source": [
    "import os\n",
    "from tqdm import tqdm\n",
    "path=\"/data/private/huxiaomeng/sgpt/corpus_embeddings/sgpt-1.3B-msmarco_topk_score.txt\"\n",
    "query_result={}\n",
    "with open(path,'r') as f:\n",
    "    for item in tqdm(f):\n",
    "        item_list=item.strip('\\n').split('\\t')\n",
    "        if item_list[2] == \"cos_sim\":\n",
    "            if item_list[0] not in query_result:\n",
    "                query_result[item_list[0]]=[]\n",
    "            query_result[item_list[0]].append({'cid':item_list[1],'score':eval(item_list[3])})\n"
   ]
  },
  {
   "cell_type": "code",
   "execution_count": 2,
   "metadata": {},
   "outputs": [],
   "source": [
    "qrel_path=\"/data/private/huxiaomeng/sgpt/datasets/msmarco/qrels.dev.tsv\"\n",
    "qrel={}\n",
    "with open(qrel_path,'r') as f:\n",
    "    for item in f:\n",
    "        new_item=item.strip('\\n').split('\\t')\n",
    "        if new_item[0] not in qrel:\n",
    "            qrel[new_item[0]]=[]\n",
    "        qrel[new_item[0]].append(new_item[2])"
   ]
  },
  {
   "cell_type": "code",
   "execution_count": 6,
   "metadata": {},
   "outputs": [],
   "source": [
    "query_path=\"/data/private/huxiaomeng/sgpt/datasets/msmarco/queries.dev.small.tsv\"\n",
    "query=[]\n",
    "with open(query_path,'r') as f:\n",
    "    for item in f:\n",
    "        a=item.strip('\\n').split('\\t')\n",
    "        query.append(a[0])"
   ]
  },
  {
   "cell_type": "code",
   "execution_count": 8,
   "metadata": {},
   "outputs": [],
   "source": [
    "query_recall={}\n",
    "for query_itr_str in query_result:\n",
    "    query_itr=eval(query_itr_str)\n",
    "    qid=query[query_itr]\n",
    "    top_hits=sorted(query_result[query_itr_str],key=lambda x: x['score'], reverse=True)\n",
    "    query_relevant_doc=qrel[qid]\n",
    "    query_recall[qid]=1.01\n",
    "    for i in range(len(top_hits)):\n",
    "        item=top_hits[i]\n",
    "        if item['cid'] in query_relevant_doc:\n",
    "            query_recall[qid]=i/len(top_hits)\n",
    "    "
   ]
  },
  {
   "cell_type": "code",
   "execution_count": 12,
   "metadata": {},
   "outputs": [],
   "source": [
    "import torch\n",
    "a=torch.tensor([[1,2,3],[4,5,6]])"
   ]
  },
  {
   "cell_type": "code",
   "execution_count": 13,
   "metadata": {},
   "outputs": [],
   "source": [
    "b=torch.tensor([[1,2,3],[4,5,6]])"
   ]
  },
  {
   "cell_type": "code",
   "execution_count": 16,
   "metadata": {},
   "outputs": [],
   "source": [
    "c=torch.cat((a,b),0)"
   ]
  },
  {
   "cell_type": "code",
   "execution_count": 17,
   "metadata": {},
   "outputs": [
    {
     "data": {
      "text/plain": [
       "tensor([[1, 2, 3],\n",
       "        [4, 5, 6],\n",
       "        [1, 2, 3],\n",
       "        [4, 5, 6]])"
      ]
     },
     "execution_count": 17,
     "metadata": {},
     "output_type": "execute_result"
    }
   ],
   "source": [
    "c"
   ]
  },
  {
   "cell_type": "code",
   "execution_count": 19,
   "metadata": {},
   "outputs": [],
   "source": [
    "c=[c[idx] for idx in range(len(c))]"
   ]
  },
  {
   "cell_type": "code",
   "execution_count": 21,
   "metadata": {},
   "outputs": [
    {
     "data": {
      "text/plain": [
       "tensor([[1, 2, 3],\n",
       "        [4, 5, 6],\n",
       "        [1, 2, 3],\n",
       "        [4, 5, 6]])"
      ]
     },
     "execution_count": 21,
     "metadata": {},
     "output_type": "execute_result"
    }
   ],
   "source": [
    "torch.stack(c)"
   ]
  }
 ],
 "metadata": {
  "interpreter": {
   "hash": "7c2d794e841d63af5b0a8bf3b4ad4e950d3f51d9cfc7002dfe86825f379a2898"
  },
  "kernelspec": {
   "display_name": "Python 3.7.11 ('lmbff')",
   "language": "python",
   "name": "python3"
  },
  "language_info": {
   "codemirror_mode": {
    "name": "ipython",
    "version": 3
   },
   "file_extension": ".py",
   "mimetype": "text/x-python",
   "name": "python",
   "nbconvert_exporter": "python",
   "pygments_lexer": "ipython3",
   "version": "3.7.11"
  },
  "orig_nbformat": 4
 },
 "nbformat": 4,
 "nbformat_minor": 2
}
